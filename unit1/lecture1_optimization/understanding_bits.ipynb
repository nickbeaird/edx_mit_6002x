{
 "cells": [
  {
   "cell_type": "markdown",
   "metadata": {},
   "source": [
    "# Understanding Bits\n",
    "\n",
    "The below code is taken from the 6.00.2x Intro to Data Science class.\n",
    "\n",
    "The code below is used to sort a list of items into three different states: in bag one, in bag two, and not in any bag. The probability is that there are three states for each item in the bag, which means that there are 3^^N possible states for all items in the bag. \n",
    "\n",
    "Using this assumption, the below code, uses print statements to try and determine how it is that these individual states are being generated and placed into separate bags.\n",
    "\n",
    "Using bits is a great way to organize state by the unique state, as captured in the bit conversion of the number (i.e. out of bag=0, in bag one=1, and in bag two=2) "
   ]
  },
  {
   "cell_type": "code",
   "execution_count": 2,
   "metadata": {},
   "outputs": [
    {
     "name": "stdout",
     "output_type": "stream",
     "text": [
      "([1, 2, 3], [])\n",
      "([2, 3], [1])\n",
      "([2, 3], [])\n",
      "([1, 3], [2])\n",
      "([3], [1, 2])\n",
      "([3], [2])\n",
      "([1, 3], [])\n",
      "([3], [1])\n",
      "([3], [])\n",
      "([1, 2], [3])\n",
      "([2], [1, 3])\n",
      "([2], [3])\n",
      "([1], [2, 3])\n",
      "([], [1, 2, 3])\n",
      "([], [2, 3])\n",
      "([1], [3])\n",
      "([], [1, 3])\n",
      "([], [3])\n",
      "([1, 2], [])\n",
      "([2], [1])\n",
      "([2], [])\n",
      "([1], [2])\n",
      "([], [1, 2])\n",
      "([], [2])\n",
      "([1], [])\n",
      "([], [1])\n",
      "([], [])\n"
     ]
    }
   ],
   "source": [
    "def newPowerSet(items):\n",
    "    \"\"\"Return the unique possibile state combination for items in a list\n",
    "        state 0 = not in a bag\n",
    "        state 1 = in bag #1\n",
    "        state 2 = in bag #2\n",
    "    \"\"\"\n",
    "    N = len(items)\n",
    "        \n",
    "    for i in range(3**N):\n",
    "        combo1 = []\n",
    "        combo2 = []\n",
    "        for j in range(N):\n",
    "            if (i // 3**j) % 3 == 0:\n",
    "                combo1.append(items[j])\n",
    "            elif (i // 3**j) % 3 == 1:\n",
    "                combo2.append(items[j])\n",
    "\n",
    "        yield combo1, combo2\n",
    "\n",
    "test = newPowerSet([1,2,3])\n",
    "\n",
    "for items in test:\n",
    "    print(items)"
   ]
  },
  {
   "cell_type": "code",
   "execution_count": 3,
   "metadata": {},
   "outputs": [
    {
     "name": "stdout",
     "output_type": "stream",
     "text": [
      "(['i: 0 j: 0', 'i: 0 j: 1', 'i: 0 j: 2'], [])\n",
      "(['i: 1 j: 1', 'i: 1 j: 2'], ['i: 1 j: 0'])\n",
      "(['i: 2 j: 1', 'i: 2 j: 2'], [])\n",
      "(['i: 3 j: 0', 'i: 3 j: 2'], ['i: 3 j: 1'])\n",
      "(['i: 4 j: 2'], ['i: 4 j: 0', 'i: 4 j: 1'])\n",
      "(['i: 5 j: 2'], ['i: 5 j: 1'])\n",
      "(['i: 6 j: 0', 'i: 6 j: 2'], [])\n",
      "(['i: 7 j: 2'], ['i: 7 j: 0'])\n",
      "(['i: 8 j: 2'], [])\n",
      "(['i: 9 j: 0', 'i: 9 j: 1'], ['i: 9 j: 2'])\n",
      "(['i: 10 j: 1'], ['i: 10 j: 0', 'i: 10 j: 2'])\n",
      "(['i: 11 j: 1'], ['i: 11 j: 2'])\n",
      "(['i: 12 j: 0'], ['i: 12 j: 1', 'i: 12 j: 2'])\n",
      "([], ['i: 13 j: 0', 'i: 13 j: 1', 'i: 13 j: 2'])\n",
      "([], ['i: 14 j: 1', 'i: 14 j: 2'])\n",
      "(['i: 15 j: 0'], ['i: 15 j: 2'])\n",
      "([], ['i: 16 j: 0', 'i: 16 j: 2'])\n",
      "([], ['i: 17 j: 2'])\n",
      "(['i: 18 j: 0', 'i: 18 j: 1'], [])\n",
      "(['i: 19 j: 1'], ['i: 19 j: 0'])\n",
      "(['i: 20 j: 1'], [])\n",
      "(['i: 21 j: 0'], ['i: 21 j: 1'])\n",
      "([], ['i: 22 j: 0', 'i: 22 j: 1'])\n",
      "([], ['i: 23 j: 1'])\n",
      "(['i: 24 j: 0'], [])\n",
      "([], ['i: 25 j: 0'])\n",
      "([], [])\n"
     ]
    }
   ],
   "source": [
    "def newPowerSet(items):\n",
    "    \"\"\"For debugging purposes:\n",
    "    Note the bit value for each combination\"\"\"\n",
    "    N = len(items)\n",
    "        \n",
    "    for i in range(3**N):\n",
    "        combo1 = []\n",
    "        combo2 = []\n",
    "        for j in range(N):\n",
    "            if (i // 3**j) % 3 == 0:\n",
    "                test = 'i: ' + str(i) + ' j: ' + str(j)\n",
    "                combo1.append(test)\n",
    "#                 combo1.append(items[j])\n",
    "            elif (i // 3**j) % 3 == 1:\n",
    "                test2 = 'i: ' + str(i) + ' j: ' + str(j)\n",
    "                combo2.append(test2)\n",
    "#                 combo2.append(items[j])\n",
    "\n",
    "        yield combo1, combo2\n",
    "    \n",
    "test = newPowerSet([1,2,3])\n",
    "for items in test:\n",
    "    print(items)"
   ]
  }
 ],
 "metadata": {
  "kernelspec": {
   "display_name": "Python 3",
   "language": "python",
   "name": "python3"
  },
  "language_info": {
   "codemirror_mode": {
    "name": "ipython",
    "version": 3
   },
   "file_extension": ".py",
   "mimetype": "text/x-python",
   "name": "python",
   "nbconvert_exporter": "python",
   "pygments_lexer": "ipython3",
   "version": "3.5.6"
  }
 },
 "nbformat": 4,
 "nbformat_minor": 2
}
