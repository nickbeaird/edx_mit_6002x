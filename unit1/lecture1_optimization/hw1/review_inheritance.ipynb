{
 "cells": [
  {
   "cell_type": "markdown",
   "metadata": {},
   "source": [
    "# Review  Inheritance\n",
    "\n",
    "The below code snippets were created to review inheritence in Models. Specifically, the question of the below code snippet aims to review if a class is an instance of the Object in which it was inherited."
   ]
  },
  {
   "cell_type": "code",
   "execution_count": 12,
   "metadata": {},
   "outputs": [],
   "source": [
    "class Person(object):\n",
    "    def __init__(self, name):\n",
    "        self.name = name\n",
    "        \n",
    "        \n",
    "class CoolPerson(Person):\n",
    "    def __init__(self, name, saying):\n",
    "        Person.__init__(self, name)\n",
    "        self.saying = saying\n",
    "        \n",
    "\n",
    "class LazyCoolPerson(Person):\n",
    "    def __init__(self, name, lazy_saying):\n",
    "        self.lazy_saying = lazy_saying\n",
    "\n",
    "\n",
    "class InheritedCoolPerson(CoolPerson):\n",
    "    pass\n",
    "\n",
    "        "
   ]
  },
  {
   "cell_type": "code",
   "execution_count": 14,
   "metadata": {},
   "outputs": [],
   "source": [
    "person = Person('Tom')\n",
    "\n",
    "cool_person = CoolPerson('Dick', 'How\\'s it going?')\n",
    "\n",
    "lazy_cool_person = LazyCoolPerson('Harry', 'Chillaxing')\n",
    "\n",
    "inherited_cool_person = InheritedCoolPerson('Pool Boy', 'cleaning the pool')\n",
    "\n"
   ]
  },
  {
   "cell_type": "code",
   "execution_count": 5,
   "metadata": {},
   "outputs": [
    {
     "name": "stdout",
     "output_type": "stream",
     "text": [
      "True\n",
      "True\n",
      "True\n"
     ]
    }
   ],
   "source": [
    "print(isinstance(person, Person))\n",
    "print(isinstance(cool_person, Person))\n",
    "print(isinstance(lazy_cool_person, Person))\n",
    "\n"
   ]
  },
  {
   "cell_type": "code",
   "execution_count": 6,
   "metadata": {},
   "outputs": [
    {
     "name": "stdout",
     "output_type": "stream",
     "text": [
      "How's it going?\n"
     ]
    }
   ],
   "source": [
    "print(cool_person.saying)"
   ]
  },
  {
   "cell_type": "code",
   "execution_count": 7,
   "metadata": {},
   "outputs": [
    {
     "name": "stdout",
     "output_type": "stream",
     "text": [
      "Chillaxing\n"
     ]
    }
   ],
   "source": [
    "print(lazy_cool_person.lazy_saying)"
   ]
  },
  {
   "cell_type": "code",
   "execution_count": null,
   "metadata": {},
   "outputs": [],
   "source": []
  }
 ],
 "metadata": {
  "kernelspec": {
   "display_name": "Python 3",
   "language": "python",
   "name": "python3"
  },
  "language_info": {
   "codemirror_mode": {
    "name": "ipython",
    "version": 3
   },
   "file_extension": ".py",
   "mimetype": "text/x-python",
   "name": "python",
   "nbconvert_exporter": "python",
   "pygments_lexer": "ipython3",
   "version": "3.5.6"
  }
 },
 "nbformat": 4,
 "nbformat_minor": 2
}
