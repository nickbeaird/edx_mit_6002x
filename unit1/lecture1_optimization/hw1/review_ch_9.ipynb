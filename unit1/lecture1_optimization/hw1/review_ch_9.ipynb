{
 "cells": [
  {
   "cell_type": "markdown",
   "metadata": {},
   "source": [
    "# Review Modulo\n",
    "\n",
    "The ability to convert an integer to a string is a basic functionality that is built into the python language. This below code snippet examines on way that we can create an algorithm to do the same work. \n",
    "\n",
    "The below code snippet allow the python to convert an integer into a string by getting the remainder of the integer in a // 10, and then appending the matching string as seen in the digits '0123456789'. \n",
    "\n",
    "This example piece of code is soley for the purpose of examining the basics of algorithms. \n",
    "\n",
    "Guttag, J. (2019). Introduction to Computation and Programming Using Python."
   ]
  },
  {
   "cell_type": "code",
   "execution_count": 14,
   "metadata": {},
   "outputs": [],
   "source": [
    "def intToStr(i):\n",
    "    \"\"\"Assumes i is a nonnegative int\n",
    "    Returns a decimal string representation of i\n",
    "    \"\"\"\n",
    "\n",
    "    digits = '0123456789'\n",
    "    if i == 0:\n",
    "        return '0'\n",
    "    result = ''\n",
    "    while i > 0:\n",
    "        result = digits[i%10] + result \n",
    "        i = i//10\n",
    "    return result\n",
    "\n",
    "print(intToStr(1600))"
   ]
  }
 ],
 "metadata": {
  "kernelspec": {
   "display_name": "Python 3",
   "language": "python",
   "name": "python3"
  },
  "language_info": {
   "codemirror_mode": {
    "name": "ipython",
    "version": 3
   },
   "file_extension": ".py",
   "mimetype": "text/x-python",
   "name": "python",
   "nbconvert_exporter": "python",
   "pygments_lexer": "ipython3",
   "version": "3.5.6"
  }
 },
 "nbformat": 4,
 "nbformat_minor": 2
}
