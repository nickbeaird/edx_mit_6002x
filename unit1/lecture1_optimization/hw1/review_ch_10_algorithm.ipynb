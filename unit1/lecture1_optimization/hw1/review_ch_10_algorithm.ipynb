{
 "cells": [
  {
   "cell_type": "code",
   "execution_count": 32,
   "metadata": {},
   "outputs": [],
   "source": [
    " def selSort(L):\n",
    "    \"\"\"Assumes that L is a list of elements that can be\n",
    "    compared using >.\n",
    "    Sorts L in ascending order\"\"\"\n",
    "    print(L)\n",
    "    suffixStart = 0\n",
    "    # import pdb;pdb.set_trace()\n",
    "    while suffixStart != len(L):\n",
    "        #look at each element in suffix\n",
    "        for i in range(suffixStart, len(L)):\n",
    "            if L[i] < L[suffixStart]:\n",
    "                print(\"L[i]: \", L[i], ' i: ', i)\n",
    "                print(\"L[suffixStart]: \",L[suffixStart], ' suffixStart: ', suffixStart)\n",
    "                #swap position of elements\n",
    "                L[suffixStart], L[i] = L[i], L[suffixStart]\n",
    "            print('List: ', L)\n",
    "        suffixStart += 1\n",
    "    return L"
   ]
  },
  {
   "cell_type": "code",
   "execution_count": 33,
   "metadata": {},
   "outputs": [
    {
     "name": "stdout",
     "output_type": "stream",
     "text": [
      "[2, 1, 0, 3, 6, 5, 4]\n",
      "List:  [2, 1, 0, 3, 6, 5, 4]\n",
      "L[i]:  1  i:  1\n",
      "L[suffixStart]:  2  suffixStart:  0\n",
      "List:  [1, 2, 0, 3, 6, 5, 4]\n",
      "L[i]:  0  i:  2\n",
      "L[suffixStart]:  1  suffixStart:  0\n",
      "List:  [0, 2, 1, 3, 6, 5, 4]\n",
      "List:  [0, 2, 1, 3, 6, 5, 4]\n",
      "List:  [0, 2, 1, 3, 6, 5, 4]\n",
      "List:  [0, 2, 1, 3, 6, 5, 4]\n",
      "List:  [0, 2, 1, 3, 6, 5, 4]\n",
      "List:  [0, 2, 1, 3, 6, 5, 4]\n",
      "L[i]:  1  i:  2\n",
      "L[suffixStart]:  2  suffixStart:  1\n",
      "List:  [0, 1, 2, 3, 6, 5, 4]\n",
      "List:  [0, 1, 2, 3, 6, 5, 4]\n",
      "List:  [0, 1, 2, 3, 6, 5, 4]\n",
      "List:  [0, 1, 2, 3, 6, 5, 4]\n",
      "List:  [0, 1, 2, 3, 6, 5, 4]\n",
      "List:  [0, 1, 2, 3, 6, 5, 4]\n",
      "List:  [0, 1, 2, 3, 6, 5, 4]\n",
      "List:  [0, 1, 2, 3, 6, 5, 4]\n",
      "List:  [0, 1, 2, 3, 6, 5, 4]\n",
      "List:  [0, 1, 2, 3, 6, 5, 4]\n",
      "List:  [0, 1, 2, 3, 6, 5, 4]\n",
      "List:  [0, 1, 2, 3, 6, 5, 4]\n",
      "List:  [0, 1, 2, 3, 6, 5, 4]\n",
      "List:  [0, 1, 2, 3, 6, 5, 4]\n",
      "List:  [0, 1, 2, 3, 6, 5, 4]\n",
      "L[i]:  5  i:  5\n",
      "L[suffixStart]:  6  suffixStart:  4\n",
      "List:  [0, 1, 2, 3, 5, 6, 4]\n",
      "L[i]:  4  i:  6\n",
      "L[suffixStart]:  5  suffixStart:  4\n",
      "List:  [0, 1, 2, 3, 4, 6, 5]\n",
      "List:  [0, 1, 2, 3, 4, 6, 5]\n",
      "L[i]:  5  i:  6\n",
      "L[suffixStart]:  6  suffixStart:  5\n",
      "List:  [0, 1, 2, 3, 4, 5, 6]\n",
      "List:  [0, 1, 2, 3, 4, 5, 6]\n"
     ]
    }
   ],
   "source": [
    "t = selSort([2,1,0,3,6,5,4])"
   ]
  },
  {
   "cell_type": "code",
   "execution_count": 29,
   "metadata": {},
   "outputs": [
    {
     "name": "stdout",
     "output_type": "stream",
     "text": [
      "[0, 1, 2, 3, 4, 5, 6]\n"
     ]
    }
   ],
   "source": [
    "print(t)"
   ]
  },
  {
   "cell_type": "code",
   "execution_count": null,
   "metadata": {},
   "outputs": [],
   "source": []
  }
 ],
 "metadata": {
  "kernelspec": {
   "display_name": "Python 3",
   "language": "python",
   "name": "python3"
  },
  "language_info": {
   "codemirror_mode": {
    "name": "ipython",
    "version": 3
   },
   "file_extension": ".py",
   "mimetype": "text/x-python",
   "name": "python",
   "nbconvert_exporter": "python",
   "pygments_lexer": "ipython3",
   "version": "3.5.6"
  }
 },
 "nbformat": 4,
 "nbformat_minor": 2
}
